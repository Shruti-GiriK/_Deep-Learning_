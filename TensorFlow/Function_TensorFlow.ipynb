{
  "nbformat": 4,
  "nbformat_minor": 0,
  "metadata": {
    "colab": {
      "provenance": []
    },
    "kernelspec": {
      "name": "python3",
      "display_name": "Python 3"
    },
    "language_info": {
      "name": "python"
    }
  },
  "cells": [
    {
      "cell_type": "markdown",
      "source": [
        "# Tensorflow"
      ],
      "metadata": {
        "id": "C8pz0urGAt-d"
      }
    },
    {
      "cell_type": "markdown",
      "source": [
        "## Functions"
      ],
      "metadata": {
        "id": "QSZVCi3DA2_D"
      }
    },
    {
      "cell_type": "code",
      "execution_count": null,
      "metadata": {
        "id": "VTzwuMZgcMVk"
      },
      "outputs": [],
      "source": [
        "import tensorflow as tf"
      ]
    },
    {
      "cell_type": "markdown",
      "source": [
        "### tf.constant()"
      ],
      "metadata": {
        "id": "t7dW9roDBJkz"
      }
    },
    {
      "cell_type": "code",
      "source": [
        "vector=tf.constant([5,10,15,20])\n",
        "print(vector)"
      ],
      "metadata": {
        "colab": {
          "base_uri": "https://localhost:8080/"
        },
        "id": "UG7TzwaEAlXM",
        "outputId": "c5b09538-52d1-4c17-8c01-92572c76a37b"
      },
      "execution_count": null,
      "outputs": [
        {
          "output_type": "stream",
          "name": "stdout",
          "text": [
            "tf.Tensor([ 5 10 15 20], shape=(4,), dtype=int32)\n"
          ]
        }
      ]
    },
    {
      "cell_type": "markdown",
      "source": [
        "### tf.zeros()"
      ],
      "metadata": {
        "id": "2QKXOQYYybg1"
      }
    },
    {
      "cell_type": "code",
      "source": [
        "zero_tensor=tf.zeros([2,3])\n",
        "print(zero_tensor)"
      ],
      "metadata": {
        "colab": {
          "base_uri": "https://localhost:8080/"
        },
        "id": "tae4CRjlBQ0U",
        "outputId": "7f715415-bc79-49f4-8eae-da25f70947ec"
      },
      "execution_count": null,
      "outputs": [
        {
          "output_type": "stream",
          "name": "stdout",
          "text": [
            "tf.Tensor(\n",
            "[[0. 0. 0.]\n",
            " [0. 0. 0.]], shape=(2, 3), dtype=float32)\n"
          ]
        }
      ]
    },
    {
      "cell_type": "markdown",
      "source": [
        "### tf.ones()"
      ],
      "metadata": {
        "id": "V1evvBdYyflx"
      }
    },
    {
      "cell_type": "code",
      "source": [
        "ones_tensor=tf.ones([2,6])\n",
        "print(ones_tensor)"
      ],
      "metadata": {
        "colab": {
          "base_uri": "https://localhost:8080/"
        },
        "id": "7Al9fL2FBkQD",
        "outputId": "a10ca7aa-4439-420a-a7be-6fa2b2be7d98"
      },
      "execution_count": null,
      "outputs": [
        {
          "output_type": "stream",
          "name": "stdout",
          "text": [
            "tf.Tensor(\n",
            "[[1. 1. 1. 1. 1. 1.]\n",
            " [1. 1. 1. 1. 1. 1.]], shape=(2, 6), dtype=float32)\n"
          ]
        }
      ]
    },
    {
      "cell_type": "markdown",
      "source": [
        "### tf.random.uniform()"
      ],
      "metadata": {
        "id": "8mttggiByo_G"
      }
    },
    {
      "cell_type": "code",
      "source": [
        "random_tensor=tf.random.uniform([2,2],minval=0,maxval=10,dtype=tf.int32)\n",
        "print(random_tensor)"
      ],
      "metadata": {
        "colab": {
          "base_uri": "https://localhost:8080/"
        },
        "id": "6ztAhtSCBvtL",
        "outputId": "eb84245a-750a-407f-8a4b-af0fb49c2fdd"
      },
      "execution_count": null,
      "outputs": [
        {
          "output_type": "stream",
          "name": "stdout",
          "text": [
            "tf.Tensor(\n",
            "[[8 2]\n",
            " [3 7]], shape=(2, 2), dtype=int32)\n"
          ]
        }
      ]
    },
    {
      "cell_type": "code",
      "source": [
        "tensor=tf.constant([[1,1],[2,2]])\n",
        "print(tf.shape(tensor))"
      ],
      "metadata": {
        "colab": {
          "base_uri": "https://localhost:8080/"
        },
        "id": "E1f-q0AUCGwY",
        "outputId": "295bec6b-482d-462d-fcd6-9fd2c9370f83"
      },
      "execution_count": null,
      "outputs": [
        {
          "output_type": "stream",
          "name": "stdout",
          "text": [
            "tf.Tensor([2 2], shape=(2,), dtype=int32)\n"
          ]
        }
      ]
    },
    {
      "cell_type": "markdown",
      "source": [
        "### Mathematical Operations"
      ],
      "metadata": {
        "id": "Jn95qWwdCrIb"
      }
    },
    {
      "cell_type": "code",
      "source": [
        "a=tf.constant([1,2,3])\n",
        "b=tf.constant([4,5,6])\n",
        "c=tf.add(a,b)\n",
        "print(c)"
      ],
      "metadata": {
        "colab": {
          "base_uri": "https://localhost:8080/"
        },
        "id": "bD21QTTzCikM",
        "outputId": "46a5aebe-833c-4225-9186-cce500682044"
      },
      "execution_count": null,
      "outputs": [
        {
          "output_type": "stream",
          "name": "stdout",
          "text": [
            "tf.Tensor([5 7 9], shape=(3,), dtype=int32)\n"
          ]
        }
      ]
    },
    {
      "cell_type": "code",
      "source": [
        "a=tf.constant([1,2,3])\n",
        "b=tf.constant([4,5,6])\n",
        "c=tf.subtract(a,b)\n",
        "print(c)"
      ],
      "metadata": {
        "colab": {
          "base_uri": "https://localhost:8080/"
        },
        "id": "UsDLhf9aDDWs",
        "outputId": "05225ae3-d164-4655-9675-489d13a1c251"
      },
      "execution_count": null,
      "outputs": [
        {
          "output_type": "stream",
          "name": "stdout",
          "text": [
            "tf.Tensor([-3 -3 -3], shape=(3,), dtype=int32)\n"
          ]
        }
      ]
    },
    {
      "cell_type": "code",
      "source": [
        "a=tf.constant([1,2,3])\n",
        "b=tf.constant([4,5,6])\n",
        "c=tf.multiply(a,b)\n",
        "print(c)"
      ],
      "metadata": {
        "colab": {
          "base_uri": "https://localhost:8080/"
        },
        "id": "Ru7zwz8HDeE6",
        "outputId": "605781f6-d2ca-492e-90c3-1751178b7a8f"
      },
      "execution_count": null,
      "outputs": [
        {
          "output_type": "stream",
          "name": "stdout",
          "text": [
            "tf.Tensor([ 4 10 18], shape=(3,), dtype=int32)\n"
          ]
        }
      ]
    },
    {
      "cell_type": "code",
      "source": [
        "a=tf.constant([4,6,8])\n",
        "b=tf.constant([2,3,4])\n",
        "c=tf.divide(a,b)\n",
        "print(c)"
      ],
      "metadata": {
        "colab": {
          "base_uri": "https://localhost:8080/"
        },
        "id": "17it5GmkDtjT",
        "outputId": "4bb52c7d-9778-4c08-a531-d2ac0c5d6725"
      },
      "execution_count": null,
      "outputs": [
        {
          "output_type": "stream",
          "name": "stdout",
          "text": [
            "tf.Tensor([2. 2. 2.], shape=(3,), dtype=float64)\n"
          ]
        }
      ]
    },
    {
      "cell_type": "code",
      "source": [
        "a=tf.constant([[1,2],[3,4]])\n",
        "b=tf.constant([[5,6],[7,8]])\n",
        "c=tf.matmul(a,b)\n",
        "print(c)"
      ],
      "metadata": {
        "colab": {
          "base_uri": "https://localhost:8080/"
        },
        "id": "NVue_1a6EBpj",
        "outputId": "b2303042-0eb8-4d6d-bfaf-63e24ab33195"
      },
      "execution_count": null,
      "outputs": [
        {
          "output_type": "stream",
          "name": "stdout",
          "text": [
            "tf.Tensor(\n",
            "[[19 22]\n",
            " [43 50]], shape=(2, 2), dtype=int32)\n"
          ]
        }
      ]
    },
    {
      "cell_type": "markdown",
      "source": [
        "### Reshaping and Manipulating Tensors"
      ],
      "metadata": {
        "id": "iCUmgQ_xJUbI"
      }
    },
    {
      "cell_type": "code",
      "source": [
        "tensor=tf.constant([1,2,3,4,5,6])\n",
        "reshaped_tensor=tf.reshape(tensor,[2,3])\n",
        "print(reshaped_tensor)"
      ],
      "metadata": {
        "colab": {
          "base_uri": "https://localhost:8080/"
        },
        "id": "8PDOA46VJTsa",
        "outputId": "ebbb048a-2866-453a-c57b-056773a293c2"
      },
      "execution_count": null,
      "outputs": [
        {
          "output_type": "stream",
          "name": "stdout",
          "text": [
            "tf.Tensor(\n",
            "[[1 2 3]\n",
            " [4 5 6]], shape=(2, 3), dtype=int32)\n"
          ]
        }
      ]
    },
    {
      "cell_type": "code",
      "source": [
        "matrix=tf.constant([[1,2,3],[4,5,6]])\n",
        "transposed=tf.transpose(matrix)\n",
        "print(transposed)"
      ],
      "metadata": {
        "colab": {
          "base_uri": "https://localhost:8080/"
        },
        "id": "aC9nTb2EJ0PJ",
        "outputId": "d5b43eec-d8ea-491d-fd90-0af730d7ef35"
      },
      "execution_count": null,
      "outputs": [
        {
          "output_type": "stream",
          "name": "stdout",
          "text": [
            "tf.Tensor(\n",
            "[[1 4]\n",
            " [2 5]\n",
            " [3 6]], shape=(3, 2), dtype=int32)\n"
          ]
        }
      ]
    },
    {
      "cell_type": "code",
      "source": [
        "tensor=tf.constant([[[1],[2],[3]]])\n",
        "squeezed=tf.squeeze(tensor)\n",
        "print(squeezed)"
      ],
      "metadata": {
        "colab": {
          "base_uri": "https://localhost:8080/"
        },
        "id": "PiY6Al1uKhWZ",
        "outputId": "32fc6a8b-6dae-4551-82fc-0bf99dddb6f4"
      },
      "execution_count": null,
      "outputs": [
        {
          "output_type": "stream",
          "name": "stdout",
          "text": [
            "tf.Tensor([1 2 3], shape=(3,), dtype=int32)\n"
          ]
        }
      ]
    },
    {
      "cell_type": "code",
      "source": [
        "tensor=tf.constant([1,2,3])\n",
        "expanded=tf.expand_dims(tensor,axis=1)\n",
        "print(expanded)"
      ],
      "metadata": {
        "colab": {
          "base_uri": "https://localhost:8080/"
        },
        "id": "vRs-hHWWLJow",
        "outputId": "4837bf27-30ca-4ffd-a882-18ead1c70d94"
      },
      "execution_count": null,
      "outputs": [
        {
          "output_type": "stream",
          "name": "stdout",
          "text": [
            "tf.Tensor(\n",
            "[[1]\n",
            " [2]\n",
            " [3]], shape=(3, 1), dtype=int32)\n"
          ]
        }
      ]
    },
    {
      "cell_type": "markdown",
      "source": [
        "### Aggregate Functions"
      ],
      "metadata": {
        "id": "3pPIr-8pOWO4"
      }
    },
    {
      "cell_type": "code",
      "source": [
        "tensor=tf.constant([[1,2],[3,4]])\n",
        "sum_result=tf.reduce_sum(tensor)\n",
        "print(sum_result)"
      ],
      "metadata": {
        "colab": {
          "base_uri": "https://localhost:8080/"
        },
        "id": "5qcm6ZcGL79o",
        "outputId": "c4a92bcb-aa41-4aae-b881-0952e35e54f2"
      },
      "execution_count": null,
      "outputs": [
        {
          "output_type": "stream",
          "name": "stdout",
          "text": [
            "tf.Tensor(10, shape=(), dtype=int32)\n"
          ]
        }
      ]
    },
    {
      "cell_type": "code",
      "source": [
        "mean_result=tf.reduce_mean(tensor)\n",
        "print(mean_result)"
      ],
      "metadata": {
        "colab": {
          "base_uri": "https://localhost:8080/"
        },
        "id": "C7GVWVwQOxLw",
        "outputId": "bb743541-d9f8-4600-a012-740b9d385872"
      },
      "execution_count": null,
      "outputs": [
        {
          "output_type": "stream",
          "name": "stdout",
          "text": [
            "tf.Tensor(2, shape=(), dtype=int32)\n"
          ]
        }
      ]
    },
    {
      "cell_type": "code",
      "source": [
        "max_result=tf.reduce_max(tensor)\n",
        "print(max_result)"
      ],
      "metadata": {
        "colab": {
          "base_uri": "https://localhost:8080/"
        },
        "id": "1BcKIWvLO88n",
        "outputId": "479526db-eb14-4058-bb25-fa3e499cb8dd"
      },
      "execution_count": null,
      "outputs": [
        {
          "output_type": "stream",
          "name": "stdout",
          "text": [
            "tf.Tensor(4, shape=(), dtype=int32)\n"
          ]
        }
      ]
    },
    {
      "cell_type": "code",
      "source": [
        "min_result=tf.reduce_min(tensor)\n",
        "print(min_result)"
      ],
      "metadata": {
        "colab": {
          "base_uri": "https://localhost:8080/"
        },
        "id": "0a3xU8KgPMRv",
        "outputId": "fa4795ba-da50-40aa-ec00-fe97d02eb719"
      },
      "execution_count": null,
      "outputs": [
        {
          "output_type": "stream",
          "name": "stdout",
          "text": [
            "tf.Tensor(1, shape=(), dtype=int32)\n"
          ]
        }
      ]
    },
    {
      "cell_type": "markdown",
      "source": [
        "### Indexing and slicing tensors"
      ],
      "metadata": {
        "id": "wP2asCnNQOUn"
      }
    },
    {
      "cell_type": "code",
      "source": [
        "tensor=tf.constant([1,2,3,4,5,6])\n",
        "print(tensor[0])\n",
        "print(tensor[-1])"
      ],
      "metadata": {
        "colab": {
          "base_uri": "https://localhost:8080/"
        },
        "id": "E-QwasCXQUBP",
        "outputId": "0af4f2d6-aee5-48d1-8f5e-88f688f3a010"
      },
      "execution_count": null,
      "outputs": [
        {
          "output_type": "stream",
          "name": "stdout",
          "text": [
            "tf.Tensor(1, shape=(), dtype=int32)\n",
            "tf.Tensor(6, shape=(), dtype=int32)\n"
          ]
        }
      ]
    },
    {
      "cell_type": "code",
      "source": [
        "tensor=tf.constant([10,20,30,40,50])\n",
        "print(tensor[1:4])"
      ],
      "metadata": {
        "colab": {
          "base_uri": "https://localhost:8080/"
        },
        "id": "hfmocS8IQhe2",
        "outputId": "db032949-ca41-43ca-cc22-202f9b1e0d8c"
      },
      "execution_count": null,
      "outputs": [
        {
          "output_type": "stream",
          "name": "stdout",
          "text": [
            "tf.Tensor([20 30 40], shape=(3,), dtype=int32)\n"
          ]
        }
      ]
    },
    {
      "cell_type": "markdown",
      "source": [
        "### Broadcasting"
      ],
      "metadata": {
        "id": "MQU-XD_vSAW_"
      }
    },
    {
      "cell_type": "code",
      "source": [
        "t1=tf.constant([[1,2,3]])\n",
        "t2=tf.constant([[1],[2],[3]])\n",
        "result=t1+t2\n",
        "print(result)"
      ],
      "metadata": {
        "colab": {
          "base_uri": "https://localhost:8080/"
        },
        "id": "w7RKOpA-SC_W",
        "outputId": "148cca9f-9ce5-41d8-e91a-7dc4edacfc8b"
      },
      "execution_count": null,
      "outputs": [
        {
          "output_type": "stream",
          "name": "stdout",
          "text": [
            "tf.Tensor(\n",
            "[[2 3 4]\n",
            " [3 4 5]\n",
            " [4 5 6]], shape=(3, 3), dtype=int32)\n"
          ]
        }
      ]
    },
    {
      "cell_type": "markdown",
      "source": [
        "# Keras"
      ],
      "metadata": {
        "id": "p6hasqe86-zS"
      }
    },
    {
      "cell_type": "code",
      "source": [
        "print('TensorFlow:',tf.__version__)\n",
        "print(\"Keras:\",tf.keras.__version__)"
      ],
      "metadata": {
        "colab": {
          "base_uri": "https://localhost:8080/"
        },
        "id": "1y5liyBDyImU",
        "outputId": "d05bd067-e432-4a27-e32c-b09cdc5cc2c8"
      },
      "execution_count": null,
      "outputs": [
        {
          "output_type": "stream",
          "name": "stdout",
          "text": [
            "TensorFlow: 2.18.0\n",
            "Keras: 3.8.0\n"
          ]
        }
      ]
    },
    {
      "cell_type": "markdown",
      "source": [
        "## Sequential API"
      ],
      "metadata": {
        "id": "rVUaSbX672oR"
      }
    },
    {
      "cell_type": "code",
      "source": [
        "from keras.models import Sequential\n",
        "from keras.layers import Dense,Activation"
      ],
      "metadata": {
        "id": "H_u_FTJ376j1"
      },
      "execution_count": null,
      "outputs": []
    },
    {
      "cell_type": "code",
      "source": [
        "model=Sequential()\n",
        "model.add(Dense(units=64,input_dim=100))\n",
        "model.add(Activation('relu'))\n",
        "model.add(Dense(units=10))\n",
        "model.add(Activation('softmax'))"
      ],
      "metadata": {
        "colab": {
          "base_uri": "https://localhost:8080/"
        },
        "id": "-suxQjkm8P3k",
        "outputId": "ef84d950-17bd-43fe-ff5e-1bf8f285a7c2"
      },
      "execution_count": null,
      "outputs": [
        {
          "output_type": "stream",
          "name": "stderr",
          "text": [
            "/usr/local/lib/python3.11/dist-packages/keras/src/layers/core/dense.py:87: UserWarning: Do not pass an `input_shape`/`input_dim` argument to a layer. When using Sequential models, prefer using an `Input(shape)` object as the first layer in the model instead.\n",
            "  super().__init__(activity_regularizer=activity_regularizer, **kwargs)\n"
          ]
        }
      ]
    },
    {
      "cell_type": "code",
      "source": [
        "from keras.layers import Input,Dense,concatenate\n",
        "from keras.models import Model"
      ],
      "metadata": {
        "id": "pCO4ibm28_kf"
      },
      "execution_count": null,
      "outputs": []
    },
    {
      "cell_type": "code",
      "source": [
        "input1=Input(shape=(100,))\n",
        "input2=Input(shape=(50,))\n",
        "hidden1=Dense(64,activation='relu')(input1)\n",
        "hidden2=Dense(32,activation='relu')(input2)\n",
        "merged=concatenate([hidden1,hidden2])\n",
        "output=Dense(10,activation='softmax')(merged)\n",
        "model=Model(inputs=[input1,input2],outputs=output)"
      ],
      "metadata": {
        "id": "XhedbFCMDzLP"
      },
      "execution_count": null,
      "outputs": []
    }
  ]
}